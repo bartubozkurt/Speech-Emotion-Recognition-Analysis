{
 "cells": [
  {
   "cell_type": "markdown",
   "metadata": {},
   "source": [
    "## Bartu Bozkurt - Bilgisayar Bilimleri - 2017280013"
   ]
  },
  {
   "cell_type": "code",
   "execution_count": null,
   "metadata": {},
   "outputs": [],
   "source": [
    "# Requiremnts Libraries\n",
    "import numpy as np \n",
    "import pandas as pd\n",
    "import matplotlib.pyplot as plt\n",
    "from pathlib import Path\n",
    "from scipy.io import wavfile\n",
    "import os.path\n",
    "import os\n",
    "import IPython.display\n",
    "import seaborn as sns\n",
    "import librosa\n",
    "import librosa.display\n",
    "import soundfile\n",
    "from sklearn.model_selection import train_test_split\n",
    "from sklearn.preprocessing import StandardScaler, LabelEncoder\n",
    "from sklearn.metrics import confusion_matrix\n",
    "import tensorflow as tf\n",
    "from tensorflow.keras import utils\n",
    "from keras.models import Sequential\n",
    "from keras.layers import Dense, Dropout, Activation, Conv1D, MaxPooling1D,Flatten, BatchNormalization\n",
    "from keras import optimizers\n",
    "import warnings"
   ]
  },
  {
   "cell_type": "code",
   "execution_count": null,
   "metadata": {
    "_cell_guid": "b1076dfc-b9ad-4769-8c92-a6c4dae69d19",
    "_uuid": "8f2839f25d086af736a60e9eeb907d3b93b6e0e5"
   },
   "outputs": [],
   "source": [
    "\n",
    "image_dir = Path('/kaggle/input/datademo/demodata')\n",
    "filepaths = list(image_dir.glob(r'**/*.wav'))\n",
    "labels = list(map(lambda x : os.path.split(x)[1].split('_')[2],filepaths))\n",
    "set(labels)\n",
    "        \n",
    "# ANG: Anger\n",
    "# DIS: Disgust\n",
    "# FEA: Fear \n",
    "# HAP: Happiness\n",
    "# NEU: Neutral \n",
    "# SAD: Sadness\n"
   ]
  },
  {
   "cell_type": "code",
   "execution_count": null,
   "metadata": {},
   "outputs": [],
   "source": [
    "filepaths = pd.Series(filepaths,name = 'Filepath').astype(str)\n",
    "labels = pd.Series(labels,name = 'Label')\n",
    "\n",
    "#dataframe !!!\n",
    "audio_DataFrame = pd.concat([filepaths,labels], axis = 1)\n",
    "audio_DataFrame.head(15)"
   ]
  },
  {
   "cell_type": "code",
   "execution_count": null,
   "metadata": {},
   "outputs": [],
   "source": [
    "%matplotlib inline\n",
    "\n",
    "plt.style.use(\"ggplot\")"
   ]
  },
  {
   "cell_type": "code",
   "execution_count": null,
   "metadata": {},
   "outputs": [],
   "source": [
    "plt.title('COUNT OF EMOTIONS')\n",
    "sns.countplot(x=audio_DataFrame[\"Label\"])\n",
    "sns.despine(top=True, right=True, left=False, bottom=False)\n",
    "\n",
    "# ANG: Anger || DIS: Disgust || FEA: Fear || HAP: Happiness || NEU: Neutral || SAD: Sadness"
   ]
  },
  {
   "cell_type": "markdown",
   "metadata": {},
   "source": [
    "## Load Data"
   ]
  },
  {
   "cell_type": "code",
   "execution_count": null,
   "metadata": {},
   "outputs": [],
   "source": [
    "audio_arr = []\n",
    "\n",
    "for i in audio_DataFrame[\"Filepath\"]:\n",
    "    x,sr= librosa.load(i,sr=44100)\n",
    "    audio_arr.append(x)\n",
    "    \n",
    "audio_DataFrame[\"Arrays\"] = audio_arr"
   ]
  },
  {
   "cell_type": "code",
   "execution_count": null,
   "metadata": {},
   "outputs": [],
   "source": [
    "audio_DataFrame"
   ]
  },
  {
   "cell_type": "markdown",
   "metadata": {},
   "source": [
    "### ANGER"
   ]
  },
  {
   "cell_type": "code",
   "execution_count": null,
   "metadata": {},
   "outputs": [],
   "source": [
    "angry_file = audio_DataFrame[audio_DataFrame['Label'] == 'ANG']['Filepath']\n",
    "angry_arr = audio_DataFrame[audio_DataFrame['Label'] ==  'ANG']['Arrays']\n",
    "\n",
    "librosa.display.waveplot(angry_arr.iloc[0], color='#C00808')\n",
    "IPython.display.Audio(angry_file.iloc[0])"
   ]
  },
  {
   "cell_type": "markdown",
   "metadata": {},
   "source": [
    "### DISGUST"
   ]
  },
  {
   "cell_type": "code",
   "execution_count": null,
   "metadata": {},
   "outputs": [],
   "source": [
    "disgust_file = audio_DataFrame[audio_DataFrame['Label'] == 'DIS']['Filepath']\n",
    "disgust_array = audio_DataFrame[audio_DataFrame['Label'] == 'DIS']['Arrays']\n",
    "\n",
    "librosa.display.waveplot(disgust_array.iloc[0], color='#804E2D')\n",
    "IPython.display.Audio(disgust_file.iloc[0])"
   ]
  },
  {
   "cell_type": "markdown",
   "metadata": {},
   "source": [
    "### FEAR"
   ]
  },
  {
   "cell_type": "code",
   "execution_count": null,
   "metadata": {},
   "outputs": [],
   "source": [
    "fear_file = audio_DataFrame[audio_DataFrame['Label'] == 'FEA']['Filepath']\n",
    "fear_array = audio_DataFrame[audio_DataFrame['Label'] == 'FEA']['Arrays']\n",
    "\n",
    "librosa.display.waveplot(fear_array.iloc[0], color='#7D55AA')\n",
    "IPython.display.Audio(fear_file.iloc[0])"
   ]
  },
  {
   "cell_type": "markdown",
   "metadata": {},
   "source": [
    "### HAPPINESS"
   ]
  },
  {
   "cell_type": "code",
   "execution_count": null,
   "metadata": {},
   "outputs": [],
   "source": [
    "happy_file = audio_DataFrame[audio_DataFrame['Label'] == 'HAP']['Filepath']\n",
    "happy_array = audio_DataFrame[audio_DataFrame['Label'] == 'HAP']['Arrays']\n",
    "\n",
    "librosa.display.waveplot(happy_array.iloc[0], color='#F19C0E')\n",
    "IPython.display.Audio(happy_file.iloc[0])"
   ]
  },
  {
   "cell_type": "markdown",
   "metadata": {},
   "source": [
    "### NEUTRAL"
   ]
  },
  {
   "cell_type": "code",
   "execution_count": null,
   "metadata": {},
   "outputs": [],
   "source": [
    "neu_file = audio_DataFrame[audio_DataFrame['Label'] == 'NEU']['Filepath']\n",
    "neu_array = audio_DataFrame[audio_DataFrame['Label'] == 'NEU']['Arrays']\n",
    "\n",
    "librosa.display.waveplot(neu_array.iloc[0], color='#4CB847')\n",
    "IPython.display.Audio(neu_file.iloc[0])"
   ]
  },
  {
   "cell_type": "markdown",
   "metadata": {},
   "source": [
    "### SADNESS"
   ]
  },
  {
   "cell_type": "code",
   "execution_count": null,
   "metadata": {},
   "outputs": [],
   "source": [
    "sad_file = audio_DataFrame[audio_DataFrame['Label'] == 'SAD']['Filepath']\n",
    "sad_array = audio_DataFrame[audio_DataFrame['Label'] == 'SAD']['Arrays']\n",
    "\n",
    "librosa.display.waveplot(sad_array.iloc[0], color='#478FB8')\n",
    "IPython.display.Audio(sad_file.iloc[0])"
   ]
  },
  {
   "cell_type": "markdown",
   "metadata": {},
   "source": [
    "## Data Augmentation"
   ]
  },
  {
   "cell_type": "code",
   "execution_count": null,
   "metadata": {},
   "outputs": [],
   "source": [
    "def noise(data):\n",
    "    noise = 0.035*np.random.uniform()*np.amax(data)\n",
    "    data = data + noise * np.random.normal(size = data.shape[0])\n",
    "    return data\n",
    "\n",
    "def stretch(data, rate = 0.8):\n",
    "    return librosa.effects.time_stretch(data,rate)\n",
    "\n",
    "def pitch(data, sampling_rate, pitch_factor = 0.7):\n",
    "    return librosa.effects.pitch_shift(data, sampling_rate, pitch_factor)"
   ]
  },
  {
   "cell_type": "markdown",
   "metadata": {},
   "source": [
    "## Extracting Features"
   ]
  },
  {
   "cell_type": "markdown",
   "metadata": {},
   "source": [
    "![](https://www.researchgate.net/profile/Buket-Barkana/publication/259823741/figure/fig2/AS:299389261238276@1448391370399/Definition-of-zero-crossings-rate.png)"
   ]
  },
  {
   "cell_type": "code",
   "execution_count": null,
   "metadata": {},
   "outputs": [],
   "source": [
    "def extract_features(data):\n",
    "    # Zero Crossing Rate\n",
    "    result = np.array([])  \n",
    "    zcr = np.mean(librosa.feature.zero_crossing_rate(y = data).T, axis = 0)\n",
    "    result = np.hstack((result,zcr))\n",
    "    \n",
    "    # Croma_stft\n",
    "    stft = np.array(librosa.stft(data))\n",
    "    chroma_stft = np.mean(librosa.feature.chroma_stft(S = stft, sr = sr, n_fft = 200).T, axis = 0)\n",
    "    result = np.hstack((result,chroma_stft))\n",
    "    \n",
    "    # Mfcc\n",
    "    mfcc = np.mean(librosa.feature.mfcc(y=data,sr = sr, n_fft = 200).T, axis =0)\n",
    "    result = np.hstack((result,mfcc))\n",
    "    \n",
    "    # Melspectogram\n",
    "    mel = np.mean(librosa.feature.melspectrogram(y= data, sr = sr, n_fft = 200).T, axis = 0)\n",
    "    result = np.hstack((result,mel))\n",
    "    \n",
    "    # Tonnetz\n",
    "    tonnetz = np.mean(librosa.feature.tonnetz(y = data, sr = sr).T,axis = 0)\n",
    "    result = np.hstack((result,tonnetz))\n",
    "    \n",
    "    return result"
   ]
  },
  {
   "cell_type": "code",
   "execution_count": null,
   "metadata": {},
   "outputs": [],
   "source": [
    "def get_features(data):\n",
    "    \n",
    "    result = []\n",
    "    \n",
    "    result1=  extract_features(data)\n",
    "    result.append(result1)\n",
    "    \n",
    "    noise_data = noise(data)\n",
    "    result2=  extract_features(noise_data)\n",
    "    result.append(result2)\n",
    "    \n",
    "    new_data = stretch(data)\n",
    "    data_stretch_pitch = pitch(new_data,sr)\n",
    "    result3=  extract_features(data_stretch_pitch)\n",
    "    result.append(result3)\n",
    "    \n",
    "    return result"
   ]
  },
  {
   "cell_type": "code",
   "execution_count": null,
   "metadata": {},
   "outputs": [],
   "source": [
    "warnings.filterwarnings('ignore')\n",
    "\n",
    "x = []\n",
    "y = []\n",
    "\n",
    "for i in range(len(audio_DataFrame)):\n",
    "    feature = get_features(audio_DataFrame['Arrays'].iloc[i])\n",
    "    for j in feature:\n",
    "        x.append(j)\n",
    "        y.append(audio_DataFrame['Label'].iloc[i])"
   ]
  },
  {
   "cell_type": "code",
   "execution_count": null,
   "metadata": {},
   "outputs": [],
   "source": [
    "labelencoder = LabelEncoder()\n",
    "y = utils.to_categorical(labelencoder.fit_transform(y))\n",
    "\n",
    "y"
   ]
  },
  {
   "cell_type": "markdown",
   "metadata": {},
   "source": [
    "## Train Test Split"
   ]
  },
  {
   "cell_type": "code",
   "execution_count": null,
   "metadata": {},
   "outputs": [],
   "source": [
    "x_train, x_test, y_train, y_test = train_test_split(np.array(x), np.array(y), test_size=0.1)\n",
    "print((x_train.shape, y_train.shape, x_test.shape, y_test.shape))"
   ]
  },
  {
   "cell_type": "code",
   "execution_count": null,
   "metadata": {},
   "outputs": [],
   "source": [
    "x_train = np.expand_dims(x_train, axis = 2)\n",
    "x_test = np.expand_dims(x_test, axis = 2)"
   ]
  },
  {
   "cell_type": "code",
   "execution_count": null,
   "metadata": {},
   "outputs": [],
   "source": [
    "print((x_train.shape, y_train.shape, x_test.shape, y_test.shape))"
   ]
  },
  {
   "cell_type": "markdown",
   "metadata": {},
   "source": [
    "## Creating Model"
   ]
  },
  {
   "cell_type": "code",
   "execution_count": null,
   "metadata": {},
   "outputs": [],
   "source": [
    "model = Sequential()\n",
    "\n",
    "model.add(Conv1D(128,3,activation = 'relu', input_shape = (x_train.shape[1],1)))\n",
    "model.add(MaxPooling1D((1)))\n",
    "\n",
    "model.add(Conv1D(256,3,activation = 'relu'))\n",
    "model.add(MaxPooling1D((1)))\n",
    "\n",
    "model.add(Conv1D(512, 3, activation='relu'))\n",
    "model.add(MaxPooling1D((1)))\n",
    "\n",
    "model.add(Conv1D(1024, 3, activation='relu'))\n",
    "model.add(MaxPooling1D((1)))\n",
    "\n",
    "model.add(Flatten())\n",
    "\n",
    "model.add(Dense(512,activation = 'relu'))\n",
    "model.add(Dropout(0.3))\n",
    "\n",
    "model.add(Dense(256,activation = 'relu'))\n",
    "model.add(Dropout(0.3))\n",
    "\n",
    "model.add(Dense(128,activation = 'relu'))\n",
    "model.add(Dropout(0.3))\n",
    "\n",
    "model.add(Dense(6,activation = 'softmax'))\n",
    "\n",
    "model.compile(loss = 'categorical_crossentropy',\n",
    "              optimizer = optimizers.RMSprop(lr = 0.0005),\n",
    "              metrics = ['Accuracy'])\n",
    "\n",
    "model.summary()"
   ]
  },
  {
   "cell_type": "code",
   "execution_count": null,
   "metadata": {},
   "outputs": [],
   "source": [
    "history = model.fit(x_train,y_train,\n",
    "                   epochs = 50,\n",
    "                   batch_size = 128,\n",
    "                   validation_data = (x_test,y_test))"
   ]
  },
  {
   "cell_type": "code",
   "execution_count": null,
   "metadata": {},
   "outputs": [],
   "source": [
    "y_prediction = model.predict(x_test)\n",
    "matrix = confusion_matrix(y_test.argmax(axis = 1), \n",
    "                          y_prediction.argmax(axis = 1))\n",
    "\n",
    "ax = sns.heatmap(matrix, annot  = True, fmt = 'd', cmap = 'rocket_r',\n",
    "                 xticklabels  = ['Anger', 'Disgust', 'Fear', 'Happiness', 'Neutral', 'Sadness'],\n",
    "                 yticklabels = ['Anger' , 'Disgust' , 'Fear', 'Happiness' , 'Neutral' , 'Sadness'])"
   ]
  },
  {
   "cell_type": "markdown",
   "metadata": {},
   "source": [
    "##### Bartu Bozkurt - May 2021"
   ]
  },
  {
   "cell_type": "code",
   "execution_count": null,
   "metadata": {},
   "outputs": [],
   "source": []
  }
 ],
 "metadata": {
  "kernelspec": {
   "display_name": "Python 3",
   "language": "python",
   "name": "python3"
  },
  "language_info": {
   "codemirror_mode": {
    "name": "ipython",
    "version": 3
   },
   "file_extension": ".py",
   "mimetype": "text/x-python",
   "name": "python",
   "nbconvert_exporter": "python",
   "pygments_lexer": "ipython3",
   "version": "3.8.5"
  }
 },
 "nbformat": 4,
 "nbformat_minor": 4
}
